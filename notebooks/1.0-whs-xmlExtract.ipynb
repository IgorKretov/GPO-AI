{
 "cells": [
  {
   "cell_type": "code",
   "execution_count": 1,
   "metadata": {},
   "outputs": [],
   "source": [
    "#Imports\n",
    "from bs4 import BeautifulSoup\n",
    "import requests\n",
    "from tqdm import tqdm\n",
    "import pandas as pd"
   ]
  },
  {
   "cell_type": "markdown",
   "metadata": {},
   "source": [
    "# Executive Summary\n",
    "1. Extract Data Fields\n",
    "2. Build ML Model\n",
    "3. Export"
   ]
  },
  {
   "cell_type": "markdown",
   "metadata": {},
   "source": [
    "# Process"
   ]
  },
  {
   "cell_type": "markdown",
   "metadata": {},
   "source": [
    "## Extract Data"
   ]
  },
  {
   "cell_type": "code",
   "execution_count": 68,
   "metadata": {},
   "outputs": [
    {
     "name": "stderr",
     "output_type": "stream",
     "text": [
      "\n",
      "  0%|                                                                                                                                                                            | 0/3 [00:00<?, ?it/s]\n",
      " 33%|██████████████████████████████████████████████████████▋                                                                                                             | 1/3 [00:00<00:00,  3.19it/s]\n",
      " 67%|█████████████████████████████████████████████████████████████████████████████████████████████████████████████▎                                                      | 2/3 [00:00<00:00,  3.33it/s]\n",
      "100%|████████████████████████████████████████████████████████████████████████████████████████████████████████████████████████████████████████████████████████████████████| 3/3 [00:00<00:00,  3.15it/s]\n",
      "\n",
      "  0%|                                                                                                                                                                            | 0/3 [00:00<?, ?it/s]\n",
      " 33%|██████████████████████████████████████████████████████▋                                                                                                             | 1/3 [00:00<00:00,  3.34it/s]\n",
      " 67%|█████████████████████████████████████████████████████████████████████████████████████████████████████████████▎                                                      | 2/3 [00:00<00:00,  4.02it/s]\n",
      "100%|████████████████████████████████████████████████████████████████████████████████████████████████████████████████████████████████████████████████████████████████████| 3/3 [00:00<00:00,  3.79it/s]\n",
      "\n",
      "  0%|                                                                                                                                                                            | 0/3 [00:00<?, ?it/s]\n",
      " 33%|██████████████████████████████████████████████████████▋                                                                                                             | 1/3 [00:00<00:00,  2.70it/s]\n",
      " 67%|█████████████████████████████████████████████████████████████████████████████████████████████████████████████▎                                                      | 2/3 [00:00<00:00,  2.89it/s]\n",
      "100%|████████████████████████████████████████████████████████████████████████████████████████████████████████████████████████████████████████████████████████████████████| 3/3 [00:01<00:00,  2.86it/s]\n"
     ]
    },
    {
     "name": "stdout",
     "output_type": "stream",
     "text": [
      "[\"Protecting America's Workers Act\", \"Shiloh National Military Park Boundary Adjustment and Parker's Crossroads Battlefield Designation Act\", 'Restricting First Use of Nuclear Weapons Act of 2017']\n",
      "[['Sen. Franken, Al [D-MN]', 'Sen. Murray, Patty [D-WA]', 'Sen. Brown, Sherrod [D-OH]', 'Sen. Warren, Elizabeth [D-MA]', 'Sen. Markey, Edward J. [D-MA]'], ['Sen. Alexander, Lamar [R-TN]'], ['Sen. Sanders, Bernard [I-VT]', 'Sen. Merkley, Jeff [D-OR]', 'Sen. Feinstein, Dianne [D-CA]', 'Sen. Franken, Al [D-MN]', 'Sen. Wyden, Ron [D-OR]', 'Sen. Warren, Elizabeth [D-MA]', 'Sen. Brown, Sherrod [D-OH]', 'Sen. Leahy, Patrick J. [D-VT]', 'Sen. Gillibrand, Kirsten E. [D-NY]', 'Sen. Schatz, Brian [D-HI]', 'Sen. Stabenow, Debbie [D-MI]', 'Sen. Murphy, Christopher [D-CT]', 'None', 'Sen. Markey, Edward J. [D-MA]']]\n",
      "[u'This bill amends the Occupational Safety and Health Act of 1970 (OSHA) to increase the scope of the Act by applying its coverage to federal, state, and local government employees. However, the bill makes OSHA inapplicable to working conditions covered by the Federal Mine Safety and Health Act of 1977.', u' This bill modifies the boundary of Shiloh National Military Park to include the following areas : (1) Fallen Timbers Battlefield, (2) Russell House Battlefield, and (3) Davis Bridge Battlefield. The Department of the Interior may acquire lands by donation, purchase from willing sellers, or exchange.', u'This bill prohibits the President from using the Armed Forces to conduct a first-use nuclear strike unless such strike is conducted pursuant to a congressional declaration of war expressly authorizing such strike. ']\n"
     ]
    }
   ],
   "source": [
    "def get_titles(urlsX):\n",
    "    '''\n",
    "    Input: List of urls\n",
    "    Returns 3 lists: (1) Bill Title (2) Bill Sponsors (3) Party\n",
    "    '''\n",
    "    titlesX = sponsersX = partiesX = []\n",
    "    i=0\n",
    "    for urlX in tqdm(urlsX):\n",
    "        #print(urlX)\n",
    "        try:\n",
    "            r = requests.get(urlX) # Use requests to get the contents\n",
    "            html_content = r.text # Get the text of the contents\n",
    "            soup = BeautifulSoup(html_content, 'lxml') # Convert the html content into a beautiful soup object\n",
    "\n",
    "            titleX = str(soup.title.string)\n",
    "            titlesX.append(str(titleX))\n",
    "\n",
    "            '''soup = None\n",
    "            soupX = BeautifulSoup(html_content, 'lxml')\n",
    "            sponserX = soupX.findAll(['sponsors','fullname'])[1:]\n",
    "            sponserX = [x.string for x in sponserX]\n",
    "            sponsersX.append(sponserX)'''\n",
    "            #print(sponsersX)\n",
    "            #print(titlesX)\n",
    "\n",
    "        except(Exception):\n",
    "            titlesX.append(\"NA\")\n",
    "    return titlesX#,sponsersX\n",
    "\n",
    "def get_sponsers(urlsX):\n",
    "    '''\n",
    "    Input: List of urls\n",
    "    Returns 3 lists: (1) Bill Title (2) Bill Sponsors (3) Party\n",
    "    '''\n",
    "    titlesX = sponsersX = partiesX = []\n",
    "    i=0\n",
    "    for urlX in tqdm(urlsX):\n",
    "        #print(urlX)\n",
    "        try:\n",
    "            r = requests.get(urlX) # Use requests to get the contents\n",
    "            html_content = r.text # Get the text of the contents\n",
    "            soup = BeautifulSoup(html_content, 'lxml') # Convert the html content into a beautiful soup object\n",
    "\n",
    "            soupX = BeautifulSoup(html_content, 'lxml')\n",
    "            sponserX = soupX.findAll(['sponsors','fullname'])[1:]\n",
    "            sponserX = [str(x.string) for x in sponserX]\n",
    "            sponsersX.append(sponserX)\n",
    "            #print(sponsersX)\n",
    "            #print(titlesX)\n",
    "\n",
    "        except(Exception):\n",
    "            sponsersX.append(\"NA\")\n",
    "    return sponsersX#,sponsersX\n",
    "def get_texts(urlsX):\n",
    "    '''\n",
    "    Input: List of urls\n",
    "    Returns 3 lists: (1) Bill Title (2) Bill Sponsors (3) Party\n",
    "    '''\n",
    "    titlesX = sponsersX = partiesX = textsX = []\n",
    "    i=0\n",
    "    for urlX in tqdm(urlsX):\n",
    "        #print(urlX)\n",
    "        try:\n",
    "            r = requests.get(urlX) # Use requests to get the contents\n",
    "            html_content = r.text # Get the text of the contents\n",
    "            soup = BeautifulSoup(html_content, 'lxml') # Convert the html content into a beautiful soup object\n",
    "\n",
    "            soupY = BeautifulSoup(html_content, 'lxml')\n",
    "            textX = soup.p.string\n",
    "            '''sponserX = soupX.findAll(['sponsors','fullname'])[1:]\n",
    "            sponserX = [str(x.string) for x in sponserX]'''\n",
    "            textsX.append(textX)\n",
    "            #print(sponsersX)\n",
    "            #print(titlesX)\n",
    "\n",
    "        except(Exception):\n",
    "            textsX.append(\"NA\")\n",
    "    return textsX#,sponsersX\n",
    "\n",
    "urls =['https://www.gpo.gov/fdsys/bulkdata/BILLSTATUS/115/s/BILLSTATUS-115s1000.xml',\n",
    "      'https://www.gpo.gov/fdsys/bulkdata/BILLSTATUS/115/s/BILLSTATUS-115s100.xml',\n",
    "      'https://www.gpo.gov/fdsys/bulkdata/BILLSTATUS/115/s/BILLSTATUS-115s200.xml']\n",
    "aaa = get_titles(urls)\n",
    "bbb = get_sponsers(urls)\n",
    "ccc = get_texts(urls)\n",
    "print(aaa)\n",
    "print(bbb)\n",
    "print(ccc)"
   ]
  },
  {
   "cell_type": "code",
   "execution_count": 64,
   "metadata": {},
   "outputs": [
    {
     "data": {
      "text/plain": [
       "[u'This bill amends the Occupational Safety and Health Act of 1970 (OSHA) to increase the scope of the Act by applying its coverage to federal, state, and local government employees. However, the bill makes OSHA inapplicable to working conditions covered by the Federal Mine Safety and Health Act of 1977.',\n",
       " u' This bill modifies the boundary of Shiloh National Military Park to include the following areas : (1) Fallen Timbers Battlefield, (2) Russell House Battlefield, and (3) Davis Bridge Battlefield. The Department of the Interior may acquire lands by donation, purchase from willing sellers, or exchange.',\n",
       " u'This bill prohibits the President from using the Armed Forces to conduct a first-use nuclear strike unless such strike is conducted pursuant to a congressional declaration of war expressly authorizing such strike. ']"
      ]
     },
     "execution_count": 64,
     "metadata": {},
     "output_type": "execute_result"
    }
   ],
   "source": [
    "ccc"
   ]
  },
  {
   "cell_type": "code",
   "execution_count": 72,
   "metadata": {},
   "outputs": [
    {
     "name": "stdout",
     "output_type": "stream",
     "text": [
      "0\n",
      "7500\n"
     ]
    },
    {
     "name": "stderr",
     "output_type": "stream",
     "text": [
      "100%|████████████████████████████████████████████████████████████████████████████████████████████████████████████████████████████████████████████████████████████| 7500/7500 [1:00:50<00:00,  2.05it/s]\n"
     ]
    },
    {
     "name": "stdout",
     "output_type": "stream",
     "text": [
      "7500\n"
     ]
    },
    {
     "name": "stderr",
     "output_type": "stream",
     "text": [
      "100%|████████████████████████████████████████████████████████████████████████████████████████████████████████████████████████████████████████████████████████████| 7500/7500 [1:19:18<00:00,  1.58it/s]\n"
     ]
    },
    {
     "name": "stdout",
     "output_type": "stream",
     "text": [
      "7500\n"
     ]
    },
    {
     "name": "stderr",
     "output_type": "stream",
     "text": [
      "100%|████████████████████████████████████████████████████████████████████████████████████████████████████████████████████████████████████████████████████████████| 7500/7500 [1:24:56<00:00,  1.47it/s]\n"
     ]
    },
    {
     "name": "stdout",
     "output_type": "stream",
     "text": [
      "7500\n"
     ]
    }
   ],
   "source": [
    "years = [115, 114, 113]\n",
    "urls = []\n",
    "bill_nums = list(range(2500))\n",
    "url ='https://www.gpo.gov/fdsys/bulkdata/BILLSTATUS/115/s/BILLSTATUS-115s1000.xml'\n",
    "#print(bill_nums)\n",
    "print(len(urls))\n",
    "\n",
    "for year in years:\n",
    "    for bill_num in (bill_nums):\n",
    "        #try:\n",
    "        url = str(url[:46])+str(year)+'/s/BILLSTATUS-'+str(year)+'s'+str(bill_num)+'.xml'  #Needs to be optimized\n",
    "        urls.append(url)\n",
    "        #print(urls[0])\n",
    "print(len(urls))\n",
    "\n",
    "titles = get_titles(urls)\n",
    "print(len(titles))\n",
    "sponsers = get_sponsers(urls)\n",
    "print(len(sponsers))\n",
    "texts = get_texts(urls)\n",
    "print(len(texts))\n"
   ]
  },
  {
   "cell_type": "markdown",
   "metadata": {},
   "source": [
    "# Create Pandas DF"
   ]
  },
  {
   "cell_type": "code",
   "execution_count": 100,
   "metadata": {},
   "outputs": [
    {
     "name": "stdout",
     "output_type": "stream",
     "text": [
      "(7500, 7500, 7500)\n"
     ]
    },
    {
     "data": {
      "text/html": [
       "<div>\n",
       "<style>\n",
       "    .dataframe thead tr:only-child th {\n",
       "        text-align: right;\n",
       "    }\n",
       "\n",
       "    .dataframe thead th {\n",
       "        text-align: left;\n",
       "    }\n",
       "\n",
       "    .dataframe tbody tr th {\n",
       "        vertical-align: top;\n",
       "    }\n",
       "</style>\n",
       "<table border=\"1\" class=\"dataframe\">\n",
       "  <thead>\n",
       "    <tr style=\"text-align: right;\">\n",
       "      <th></th>\n",
       "      <th>title</th>\n",
       "      <th>sponsers</th>\n",
       "      <th>texts</th>\n",
       "    </tr>\n",
       "  </thead>\n",
       "  <tbody>\n",
       "    <tr>\n",
       "      <th>1</th>\n",
       "      <td>Tax Cuts and Jobs Act</td>\n",
       "      <td>[Sen. Enzi, Michael B. [R-WY]]</td>\n",
       "      <td>This bill amends the Internal Revenue Code to ...</td>\n",
       "    </tr>\n",
       "    <tr>\n",
       "      <th>11</th>\n",
       "      <td>Jerusalem Embassy and Recognition Act</td>\n",
       "      <td>[Sen. Heller, Dean [R-NV], Sen. Cruz, Ted [R-T...</td>\n",
       "      <td>This bill states that it should be U.S. polic...</td>\n",
       "    </tr>\n",
       "    <tr>\n",
       "      <th>12</th>\n",
       "      <td>Increasing the Department of Veterans Affairs ...</td>\n",
       "      <td>[Sen. Moran, Jerry [R-KS], None, Sen. Moran, J...</td>\n",
       "      <td>This bill requires the reduction of the feder...</td>\n",
       "    </tr>\n",
       "    <tr>\n",
       "      <th>13</th>\n",
       "      <td>No Windfalls for Government Service Act</td>\n",
       "      <td>[Sen. Whitehouse, Sheldon [D-RI], Sen. Baldwin...</td>\n",
       "      <td>This bill amends the Internal Revenue Code to ...</td>\n",
       "    </tr>\n",
       "    <tr>\n",
       "      <th>14</th>\n",
       "      <td>No Budget, No Pay Act</td>\n",
       "      <td>[Sen. Heller, Dean [R-NV], Sen. Manchin, Joe, ...</td>\n",
       "      <td>This bill prohibits the payment of any pay to ...</td>\n",
       "    </tr>\n",
       "    <tr>\n",
       "      <th>15</th>\n",
       "      <td>Iran Ballistic Missile Sanctions Act</td>\n",
       "      <td>[Sen. Heller, Dean [R-NV]]</td>\n",
       "      <td>This bill amends the Iran-Iraq Arms Non-Prolif...</td>\n",
       "    </tr>\n",
       "    <tr>\n",
       "      <th>16</th>\n",
       "      <td>Federal Reserve Transparency Act of 2017</td>\n",
       "      <td>[Sen. Paul, Rand [R-KY], Sen. Barrasso, John [...</td>\n",
       "      <td>This bill directs the Government Accountabilit...</td>\n",
       "    </tr>\n",
       "    <tr>\n",
       "      <th>17</th>\n",
       "      <td>GAO Access and Oversight Act of 2017</td>\n",
       "      <td>[Sen. Sasse, Ben  [R-NE], Sen. Tester, Jon [D-...</td>\n",
       "      <td>This bill authorizes the Government Accountabi...</td>\n",
       "    </tr>\n",
       "    <tr>\n",
       "      <th>18</th>\n",
       "      <td>Fair Tax Act of 2017</td>\n",
       "      <td>[Sen. Isakson, Johnny [R-GA], Sen. Inhofe, Jam...</td>\n",
       "      <td>This bill is a tax reform proposal that impose...</td>\n",
       "    </tr>\n",
       "    <tr>\n",
       "      <th>19</th>\n",
       "      <td>MOBILE NOW Act</td>\n",
       "      <td>[Sen. Thune, John [R-SD], Sen. Nelson, Bill [D...</td>\n",
       "      <td>This bill requires the National Telecommunicat...</td>\n",
       "    </tr>\n",
       "    <tr>\n",
       "      <th>20</th>\n",
       "      <td>NA</td>\n",
       "      <td>[Sen. Van Hollen, Chris [D-MD]]</td>\n",
       "      <td>This bill amends the Internal Revenue Code to ...</td>\n",
       "    </tr>\n",
       "    <tr>\n",
       "      <th>21</th>\n",
       "      <td>Regulations from the Executive in Need of Scru...</td>\n",
       "      <td>[Sen. Paul, Rand [R-KY], Sen. Blunt, Roy [R-MO...</td>\n",
       "      <td>This bill revises provisions relating to congr...</td>\n",
       "    </tr>\n",
       "    <tr>\n",
       "      <th>22</th>\n",
       "      <td>Nevada Land Sovereignty Act</td>\n",
       "      <td>[Sen. Heller, Dean [R-NV]]</td>\n",
       "      <td>This bill prohibits any extension or establish...</td>\n",
       "    </tr>\n",
       "    <tr>\n",
       "      <th>23</th>\n",
       "      <td>Biological Implant Tracking and Veteran Safety...</td>\n",
       "      <td>[Sen. Cassidy, Bill [R-LA], Sen. Tester, Jon [...</td>\n",
       "      <td>This bill directs the Department of Veterans ...</td>\n",
       "    </tr>\n",
       "    <tr>\n",
       "      <th>24</th>\n",
       "      <td>A bill to expand eligibility for hospital care...</td>\n",
       "      <td>[Sen. Cassidy, Bill [R-LA]]</td>\n",
       "      <td>The final program report shall include the nu...</td>\n",
       "    </tr>\n",
       "    <tr>\n",
       "      <th>25</th>\n",
       "      <td>Right Start Child Care and Education Act of 2017</td>\n",
       "      <td>[Sen. Shaheen, Jeanne [D-NH], Sen. Gillibrand,...</td>\n",
       "      <td>This bill amends the Internal Revenue Code to:...</td>\n",
       "    </tr>\n",
       "    <tr>\n",
       "      <th>26</th>\n",
       "      <td>Presidential Tax Transparency Act</td>\n",
       "      <td>[Sen. Bennet, Michael F. [D-CO], Sen. Cardin, ...</td>\n",
       "      <td>This bill amends the Ethics in Government Act ...</td>\n",
       "    </tr>\n",
       "    <tr>\n",
       "      <th>27</th>\n",
       "      <td>A bill to establish an independent commission ...</td>\n",
       "      <td>[Sen. Cardin, Benjamin L. [D-MD], Sen. Feinste...</td>\n",
       "      <td>The commission must: (1) report on evidence de...</td>\n",
       "    </tr>\n",
       "    <tr>\n",
       "      <th>28</th>\n",
       "      <td>Health Savings Account Expansion Act of 2017</td>\n",
       "      <td>[Sen. Flake, Jeff [R-AZ], Sen. Johnson, Ron [R...</td>\n",
       "      <td>This bill amends the Internal Revenue Code to ...</td>\n",
       "    </tr>\n",
       "    <tr>\n",
       "      <th>29</th>\n",
       "      <td>Fair RETIRE Act</td>\n",
       "      <td>[Sen. Feinstein, Dianne [D-CA], Sen. Peters, G...</td>\n",
       "      <td>This bill expresses the sense of Congress with...</td>\n",
       "    </tr>\n",
       "  </tbody>\n",
       "</table>\n",
       "</div>"
      ],
      "text/plain": [
       "                                                title  \\\n",
       "1                               Tax Cuts and Jobs Act   \n",
       "11              Jerusalem Embassy and Recognition Act   \n",
       "12  Increasing the Department of Veterans Affairs ...   \n",
       "13            No Windfalls for Government Service Act   \n",
       "14                              No Budget, No Pay Act   \n",
       "15               Iran Ballistic Missile Sanctions Act   \n",
       "16           Federal Reserve Transparency Act of 2017   \n",
       "17               GAO Access and Oversight Act of 2017   \n",
       "18                               Fair Tax Act of 2017   \n",
       "19                                     MOBILE NOW Act   \n",
       "20                                                 NA   \n",
       "21  Regulations from the Executive in Need of Scru...   \n",
       "22                        Nevada Land Sovereignty Act   \n",
       "23  Biological Implant Tracking and Veteran Safety...   \n",
       "24  A bill to expand eligibility for hospital care...   \n",
       "25   Right Start Child Care and Education Act of 2017   \n",
       "26                  Presidential Tax Transparency Act   \n",
       "27  A bill to establish an independent commission ...   \n",
       "28       Health Savings Account Expansion Act of 2017   \n",
       "29                                    Fair RETIRE Act   \n",
       "\n",
       "                                             sponsers  \\\n",
       "1                      [Sen. Enzi, Michael B. [R-WY]]   \n",
       "11  [Sen. Heller, Dean [R-NV], Sen. Cruz, Ted [R-T...   \n",
       "12  [Sen. Moran, Jerry [R-KS], None, Sen. Moran, J...   \n",
       "13  [Sen. Whitehouse, Sheldon [D-RI], Sen. Baldwin...   \n",
       "14  [Sen. Heller, Dean [R-NV], Sen. Manchin, Joe, ...   \n",
       "15                         [Sen. Heller, Dean [R-NV]]   \n",
       "16  [Sen. Paul, Rand [R-KY], Sen. Barrasso, John [...   \n",
       "17  [Sen. Sasse, Ben  [R-NE], Sen. Tester, Jon [D-...   \n",
       "18  [Sen. Isakson, Johnny [R-GA], Sen. Inhofe, Jam...   \n",
       "19  [Sen. Thune, John [R-SD], Sen. Nelson, Bill [D...   \n",
       "20                    [Sen. Van Hollen, Chris [D-MD]]   \n",
       "21  [Sen. Paul, Rand [R-KY], Sen. Blunt, Roy [R-MO...   \n",
       "22                         [Sen. Heller, Dean [R-NV]]   \n",
       "23  [Sen. Cassidy, Bill [R-LA], Sen. Tester, Jon [...   \n",
       "24                        [Sen. Cassidy, Bill [R-LA]]   \n",
       "25  [Sen. Shaheen, Jeanne [D-NH], Sen. Gillibrand,...   \n",
       "26  [Sen. Bennet, Michael F. [D-CO], Sen. Cardin, ...   \n",
       "27  [Sen. Cardin, Benjamin L. [D-MD], Sen. Feinste...   \n",
       "28  [Sen. Flake, Jeff [R-AZ], Sen. Johnson, Ron [R...   \n",
       "29  [Sen. Feinstein, Dianne [D-CA], Sen. Peters, G...   \n",
       "\n",
       "                                                texts  \n",
       "1   This bill amends the Internal Revenue Code to ...  \n",
       "11   This bill states that it should be U.S. polic...  \n",
       "12   This bill requires the reduction of the feder...  \n",
       "13  This bill amends the Internal Revenue Code to ...  \n",
       "14  This bill prohibits the payment of any pay to ...  \n",
       "15  This bill amends the Iran-Iraq Arms Non-Prolif...  \n",
       "16  This bill directs the Government Accountabilit...  \n",
       "17  This bill authorizes the Government Accountabi...  \n",
       "18  This bill is a tax reform proposal that impose...  \n",
       "19  This bill requires the National Telecommunicat...  \n",
       "20  This bill amends the Internal Revenue Code to ...  \n",
       "21  This bill revises provisions relating to congr...  \n",
       "22  This bill prohibits any extension or establish...  \n",
       "23   This bill directs the Department of Veterans ...  \n",
       "24   The final program report shall include the nu...  \n",
       "25  This bill amends the Internal Revenue Code to:...  \n",
       "26  This bill amends the Ethics in Government Act ...  \n",
       "27  The commission must: (1) report on evidence de...  \n",
       "28  This bill amends the Internal Revenue Code to ...  \n",
       "29  This bill expresses the sense of Congress with...  "
      ]
     },
     "execution_count": 100,
     "metadata": {},
     "output_type": "execute_result"
    }
   ],
   "source": [
    "print(len(titles), len(sponsers), len(texts))\n",
    "df = pd.DataFrame()\n",
    "df['title'] = titles\n",
    "df['sponsers'] = sponsers\n",
    "df['texts'] = texts\n",
    "#df = pd.DataFrame({'title': titles, 'text':texts, 'sponsor': sponsors, 'party': parties_list})\n",
    "df=df.dropna()\n",
    "df.head(20)\n",
    "#df.tail(20)"
   ]
  },
  {
   "cell_type": "code",
   "execution_count": 99,
   "metadata": {},
   "outputs": [],
   "source": [
    "#data_dir = '/Users/whs/Documents/GitHub/gpo-ai.com/data/processed/1.0-billTitleSponsors.csv'\n",
    "data_dir = 'C:\\\\Users\\\\wsolomon\\\\Desktop\\\\DataScience\\\\projects\\\\loc_challenge-master\\\\1.0-billTitleSponsors.csv'\n",
    "df.to_csv(data_dir, encoding='utf-8')"
   ]
  },
  {
   "cell_type": "code",
   "execution_count": null,
   "metadata": {
    "collapsed": true
   },
   "outputs": [],
   "source": []
  }
 ],
 "metadata": {
  "kernelspec": {
   "display_name": "Python 2",
   "language": "python",
   "name": "python2"
  },
  "latex_envs": {
   "LaTeX_envs_menu_present": true,
   "autocomplete": true,
   "bibliofile": "biblio.bib",
   "cite_by": "apalike",
   "current_citInitial": 1,
   "eqLabelWithNumbers": true,
   "eqNumInitial": 1,
   "hotkeys": {
    "equation": "Ctrl-E",
    "itemize": "Ctrl-I"
   },
   "labels_anchors": false,
   "latex_user_defs": false,
   "report_style_numbering": false,
   "user_envs_cfg": false
  },
  "toc": {
   "nav_menu": {},
   "number_sections": true,
   "sideBar": true,
   "skip_h1_title": false,
   "toc_cell": false,
   "toc_position": {},
   "toc_section_display": "block",
   "toc_window_display": false
  }
 },
 "nbformat": 4,
 "nbformat_minor": 2
}
