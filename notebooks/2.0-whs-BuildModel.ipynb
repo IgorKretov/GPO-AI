{
 "cells": [
  {
   "cell_type": "code",
   "execution_count": 39,
   "metadata": {
    "collapsed": false
   },
   "outputs": [
    {
     "name": "stdout",
     "output_type": "stream",
     "text": [
      "[nltk_data] Downloading package punkt to /Users/whs/nltk_data...\n",
      "[nltk_data]   Package punkt is already up-to-date!\n"
     ]
    }
   ],
   "source": [
    "import pandas as pd\n",
    "import time\n",
    "from time import time\n",
    "import os\n",
    "\n",
    "import os\n",
    "import gensim\n",
    "from gensim.models import Word2Vec, KeyedVectors\n",
    "\n",
    "from nltk.corpus import stopwords\n",
    "from nltk import download\n",
    "stop_words = stopwords.words('english')\n",
    "from nltk import word_tokenize\n",
    "download('punkt')  # Download data for tokenizer.\n",
    "\n",
    "from gensim.similarities import WmdSimilarity\n",
    "\n",
    "start_nb = time()\n",
    "#https://markroxor.github.io/gensim/static/notebooks/WMD_tutorial.html"
   ]
  },
  {
   "cell_type": "code",
   "execution_count": 17,
   "metadata": {
    "collapsed": false
   },
   "outputs": [],
   "source": [
    "# Pre-processing a document.\n",
    "\n",
    "def preprocess(doc):\n",
    "    doc = doc.lower()  # Lower the text.\n",
    "    doc = word_tokenize(doc)  # Split into words.\n",
    "    doc = [w for w in doc if not w in stop_words]  # Remove stopwords.\n",
    "    doc = [w for w in doc if w.isalpha()]  # Remove numbers and punctuation.\n",
    "    return doc"
   ]
  },
  {
   "cell_type": "code",
   "execution_count": 9,
   "metadata": {
    "collapsed": false
   },
   "outputs": [
    {
     "data": {
      "text/plain": [
       "'/Users/whs/Documents/GitHub/loc_challenge/data/1.0-billTitleSponsors.csv'"
      ]
     },
     "execution_count": 9,
     "metadata": {},
     "output_type": "execute_result"
    }
   ],
   "source": [
    "relPath = 'data/1.0-billTitleSponsors.csv'\n",
    "absPath = os.path.join(os.path.dirname(os.getcwd()), relPath)"
   ]
  },
  {
   "cell_type": "code",
   "execution_count": 10,
   "metadata": {
    "collapsed": false
   },
   "outputs": [
    {
     "data": {
      "text/html": [
       "<div>\n",
       "<style>\n",
       "    .dataframe thead tr:only-child th {\n",
       "        text-align: right;\n",
       "    }\n",
       "\n",
       "    .dataframe thead th {\n",
       "        text-align: left;\n",
       "    }\n",
       "\n",
       "    .dataframe tbody tr th {\n",
       "        vertical-align: top;\n",
       "    }\n",
       "</style>\n",
       "<table border=\"1\" class=\"dataframe\">\n",
       "  <thead>\n",
       "    <tr style=\"text-align: right;\">\n",
       "      <th></th>\n",
       "      <th>Unnamed: 0</th>\n",
       "      <th>title</th>\n",
       "      <th>sponsers</th>\n",
       "      <th>texts</th>\n",
       "    </tr>\n",
       "  </thead>\n",
       "  <tbody>\n",
       "    <tr>\n",
       "      <th>0</th>\n",
       "      <td>1</td>\n",
       "      <td>Tax Cuts and Jobs Act</td>\n",
       "      <td>[Sen. Enzi, Michael B. [R-WY]]</td>\n",
       "      <td>This bill amends the Internal Revenue Code to ...</td>\n",
       "    </tr>\n",
       "    <tr>\n",
       "      <th>1</th>\n",
       "      <td>11</td>\n",
       "      <td>Jerusalem Embassy and Recognition Act</td>\n",
       "      <td>[Sen. Heller, Dean [R-NV], Sen. Cruz, Ted [R-T...</td>\n",
       "      <td>This bill states that it should be U.S. polic...</td>\n",
       "    </tr>\n",
       "    <tr>\n",
       "      <th>2</th>\n",
       "      <td>12</td>\n",
       "      <td>Increasing the Department of Veterans Affairs ...</td>\n",
       "      <td>[Sen. Moran, Jerry [R-KS], None, Sen. Moran, J...</td>\n",
       "      <td>This bill requires the reduction of the feder...</td>\n",
       "    </tr>\n",
       "    <tr>\n",
       "      <th>3</th>\n",
       "      <td>13</td>\n",
       "      <td>No Windfalls for Government Service Act</td>\n",
       "      <td>[Sen. Whitehouse, Sheldon [D-RI], Sen. Baldwin...</td>\n",
       "      <td>This bill amends the Internal Revenue Code to ...</td>\n",
       "    </tr>\n",
       "    <tr>\n",
       "      <th>4</th>\n",
       "      <td>14</td>\n",
       "      <td>No Budget, No Pay Act</td>\n",
       "      <td>[Sen. Heller, Dean [R-NV], Sen. Manchin, Joe, ...</td>\n",
       "      <td>This bill prohibits the payment of any pay to ...</td>\n",
       "    </tr>\n",
       "  </tbody>\n",
       "</table>\n",
       "</div>"
      ],
      "text/plain": [
       "   Unnamed: 0                                              title  \\\n",
       "0           1                              Tax Cuts and Jobs Act   \n",
       "1          11              Jerusalem Embassy and Recognition Act   \n",
       "2          12  Increasing the Department of Veterans Affairs ...   \n",
       "3          13            No Windfalls for Government Service Act   \n",
       "4          14                              No Budget, No Pay Act   \n",
       "\n",
       "                                            sponsers  \\\n",
       "0                     [Sen. Enzi, Michael B. [R-WY]]   \n",
       "1  [Sen. Heller, Dean [R-NV], Sen. Cruz, Ted [R-T...   \n",
       "2  [Sen. Moran, Jerry [R-KS], None, Sen. Moran, J...   \n",
       "3  [Sen. Whitehouse, Sheldon [D-RI], Sen. Baldwin...   \n",
       "4  [Sen. Heller, Dean [R-NV], Sen. Manchin, Joe, ...   \n",
       "\n",
       "                                               texts  \n",
       "0  This bill amends the Internal Revenue Code to ...  \n",
       "1   This bill states that it should be U.S. polic...  \n",
       "2   This bill requires the reduction of the feder...  \n",
       "3  This bill amends the Internal Revenue Code to ...  \n",
       "4  This bill prohibits the payment of any pay to ...  "
      ]
     },
     "execution_count": 10,
     "metadata": {},
     "output_type": "execute_result"
    }
   ],
   "source": [
    "#data_dir = '/Users/whs/Documents/GitHub/gpo-ai.com/data/processed/1.0-billTitleSponsors.csv'\n",
    "#data_dir = 'C:\\\\Users\\\\wsolomon\\\\Desktop\\\\DataScience\\\\projects\\\\loc_challenge-master\\\\1.0-billTitleSponsors.csv'\n",
    "relPath = 'data/1.0-billTitleSponsors.csv'\n",
    "absPath = os.path.join(os.path.dirname(os.getcwd()), relPath)\n",
    "df = pd.read_csv(absPath)\n",
    "df.head()"
   ]
  },
  {
   "cell_type": "code",
   "execution_count": 11,
   "metadata": {
    "collapsed": false
   },
   "outputs": [
    {
     "name": "stderr",
     "output_type": "stream",
     "text": [
      "Using TensorFlow backend.\n"
     ]
    },
    {
     "name": "stdout",
     "output_type": "stream",
     "text": [
      "Cell took 268.99 seconds to run.\n"
     ]
    }
   ],
   "source": [
    "start = time()\n",
    "\n",
    "relPath = 'model/GoogleNews-vectors-negative300.bin.gz'\n",
    "absPath = os.path.join(os.path.dirname(os.getcwd()), relPath)\n",
    "\n",
    "#path = '/Users/whs/Documents/GitHub/gpo-ai.com/data/processed/GoogleNews-vectors-negative300.bin.gz'\n",
    "if not os.path.exists(absPath):\n",
    "    raise ValueError(\"SKIP: You need to download the google news model\")\n",
    "    \n",
    "model = gensim.models.KeyedVectors.load_word2vec_format(absPath, binary=True)\n",
    "\n",
    "print('Cell took %.2f seconds to run.' % (time() - start))"
   ]
  },
  {
   "cell_type": "code",
   "execution_count": 12,
   "metadata": {
    "collapsed": false
   },
   "outputs": [
    {
     "name": "stdout",
     "output_type": "stream",
     "text": [
      "distance = 0.5135\n"
     ]
    }
   ],
   "source": [
    "doc1 = df['texts'][3]\n",
    "doc2 = df['texts'][4]\n",
    "distance = model.wmdistance(doc1,doc2)\n",
    "print('distance = %.4f' % distance)"
   ]
  },
  {
   "cell_type": "code",
   "execution_count": 25,
   "metadata": {
    "collapsed": false
   },
   "outputs": [
    {
     "name": "stdout",
     "output_type": "stream",
     "text": [
      "(7426, 4)\n"
     ]
    },
    {
     "data": {
      "text/plain": [
       "(5663, 4)"
      ]
     },
     "execution_count": 25,
     "metadata": {},
     "output_type": "execute_result"
    }
   ],
   "source": [
    "print(df.shape)\n",
    "df = df.dropna()\n",
    "df.shape"
   ]
  },
  {
   "cell_type": "code",
   "execution_count": 26,
   "metadata": {
    "collapsed": false
   },
   "outputs": [
    {
     "data": {
      "text/plain": [
       "'This bill amends the Equal Credit Opportunity Act (ECOA) to expand the categories of prohibited discrimination when extending credit to include discrimination on account of sexual orientation or gender identity. (Currently, such discrimination in credit is prohibited only on the basis of race, color, religion, national origin, sex or marital status, or age.)'"
      ]
     },
     "execution_count": 26,
     "metadata": {},
     "output_type": "execute_result"
    }
   ],
   "source": [
    "#preprocess(df.texts.values[1000])\n",
    "df.texts.values[1000]"
   ]
  },
  {
   "cell_type": "code",
   "execution_count": 29,
   "metadata": {
    "collapsed": false
   },
   "outputs": [
    {
     "name": "stdout",
     "output_type": "stream",
     "text": [
      "Docs in Corpus:  5663\n",
      "Cell took 63.10 seconds to run.\n"
     ]
    }
   ],
   "source": [
    "start = time()\n",
    "\n",
    "wmd_corpus = [preprocess(doc) for doc in df.texts.values]\n",
    "print('Docs in Corpus: ',len(wmd_corpus))\n",
    "num_best = 4\n",
    "instance = WmdSimilarity(wmd_corpus, model, num_best=num_best)\n",
    "\n",
    "print('Cell took %.2f seconds to run.' % (time() - start))"
   ]
  },
  {
   "cell_type": "code",
   "execution_count": 30,
   "metadata": {
    "collapsed": false
   },
   "outputs": [
    {
     "name": "stdout",
     "output_type": "stream",
     "text": [
      "[(1446, 0.45725883121398953), (1182, 0.44884097239488163), (1032, 0.4474319014548333), (4799, 0.44371549025724843)]\n",
      "Query:\n",
      "guns\n",
      "\n",
      "sim = 0.4573\n",
      "Handgun Trigger Safety Act of 2017\n",
      "[Sen. Van Hollen, Chris [D-MD], None, Sen. Markey, Edward J. [D-MA]]\n",
      "\n",
      "sim = 0.4488\n",
      "Protecting the Second Amendment Act\n",
      "[Sen. Strange, Luther [R-AL], Sen. Cruz, Ted [R-TX], Sen. Cornyn, John [R-TX]]\n",
      "\n",
      "sim = 0.4474\n",
      "Stop Illegal Trafficking in Firearms Act of 2017\n",
      "[Sen. Durbin, Richard J. [D-IL], None, Sen. Leahy, Patrick J. [D-VT]]\n",
      "\n",
      "sim = 0.4437\n",
      "Protecting Domestic Violence and Stalking Victims Act of 2013\n",
      "[None, Sen. Klobuchar, Amy [D-MN]]\n"
     ]
    }
   ],
   "source": [
    "start = time()\n",
    "\n",
    "sent = 'guns'\n",
    "query = preprocess(sent)\n",
    "\n",
    "sims = instance[query]  # A query is simply a \"look-up\" in the similarity class.\n",
    "print(sims)\n",
    "#print('Cell took %.2f seconds to run.' % (time() - start))\n",
    "\n",
    "# Print the query and the retrieved documents, together with their similarities.\n",
    "print('Query:')\n",
    "print(sent)\n",
    "for i in range(num_best):\n",
    "    print()\n",
    "    print('sim = %.4f' % sims[i][1])\n",
    "    print(df.title.values[sims[i][0]])\n",
    "    print(df.sponsers.values[sims[i][0]])"
   ]
  },
  {
   "cell_type": "code",
   "execution_count": 36,
   "metadata": {
    "collapsed": true
   },
   "outputs": [],
   "source": [
    "relPath = 'model/1.0-whs-W2VModel'\n",
    "absPath = os.path.join(os.path.dirname(os.getcwd()), relPath)\n",
    "\n",
    "model.save(absPath)"
   ]
  },
  {
   "cell_type": "code",
   "execution_count": 33,
   "metadata": {
    "collapsed": true
   },
   "outputs": [],
   "source": [
    "relPath = 'model/1.1-whs-Sim_Instance'\n",
    "absPath = os.path.join(os.path.dirname(os.getcwd()), relPath)\n",
    "\n",
    "instance.save(absPath)"
   ]
  },
  {
   "cell_type": "code",
   "execution_count": null,
   "metadata": {
    "collapsed": true
   },
   "outputs": [],
   "source": []
  },
  {
   "cell_type": "code",
   "execution_count": 42,
   "metadata": {
    "collapsed": false
   },
   "outputs": [],
   "source": [
    "w2v_relPath = 'model/GoogleNews-vectors-negative300.bin.gz'\n",
    "w2v_absPath = os.path.join(os.path.dirname(os.getcwd()), relPath)\n",
    "\n",
    "relPath = 'model/1.0-whs-W2VModel'\n",
    "absPath = os.path.join(os.path.dirname(os.getcwd()), relPath)\n",
    "#modelX = KeyedVectors.load_word2vec_format(w2v_absPath, binary=True) #.load(absPath)\n",
    "\n",
    "relPath = 'model/1.1-whs-Sim_Instance'\n",
    "absPath = os.path.join(os.path.dirname(os.getcwd()), relPath)\n",
    "instanceX = WmdSimilarity.load(absPath)\n",
    "\n",
    "relPath = 'data/1.0-billTitleSponsors.csv'\n",
    "absPath = os.path.join(os.path.dirname(os.getcwd()), relPath)\n",
    "\n",
    "df = pd.read_csv(absPath)"
   ]
  },
  {
   "cell_type": "code",
   "execution_count": 46,
   "metadata": {
    "collapsed": false
   },
   "outputs": [
    {
     "name": "stdout",
     "output_type": "stream",
     "text": [
      "[(1202, 0.45851386949294604), (3798, 0.44686855582026991), (4965, 0.44571707949836059), (3193, 0.44310248357413906)]\n",
      "Query:\n",
      "I like sports\n",
      "\n",
      "sim = 0.4585\n",
      "United States Center for Safe Sport Authorization Act of 2017\n",
      "[Sen. Thune, John [R-SD], Sen. Nelson, Bill [D-FL], Sen. Moran, Jerry [R-KS], Sen. Peters, Gary C. [D-MI], Sen. Sullivan, Dan  [R-AK], Sen. Klobuchar, Amy [D-MN], Sen. Blumenthal, Richard [D-CT]]\n",
      "\n",
      "sim = 0.4469\n",
      "FANS Act\n",
      "[None, Sen. Blumenthal, Richard [D-CT]]\n",
      "\n",
      "sim = 0.4457\n",
      "PRO Sports Act\n",
      "[Sen. Coburn, Tom [R-OK], Sen. King, Angus S. Jr. [I-ME]]\n",
      "\n",
      "sim = 0.4431\n",
      "S. 1761, a bill to take certain federal land located in Lassen County, California, into trust for the benefit of the Susanville Indian Rancheria, and for other purposes\n",
      "[None, Sen. Boxer, Barbara [D-CA]]\n",
      "Cell took 19.20 seconds to run.\n"
     ]
    }
   ],
   "source": [
    "start = time()\n",
    "\n",
    "sent = 'I like sports'\n",
    "query = preprocess(sent)\n",
    "\n",
    "sims = instanceX[query]  # A query is simply a \"look-up\" in the similarity class.\n",
    "print(sims)\n",
    "#print('Cell took %.2f seconds to run.' % (time() - start))\n",
    "\n",
    "# Print the query and the retrieved documents, together with their similarities.\n",
    "print('Query:')\n",
    "print(sent)\n",
    "for i in range(num_best):\n",
    "    print()\n",
    "    print('sim = %.4f' % sims[i][1])\n",
    "    print(df.title.values[sims[i][0]])\n",
    "    print(df.sponsers.values[sims[i][0]])\n",
    "\n",
    "\n",
    "print('Cell took %.2f seconds to run.' % (time() - start))"
   ]
  },
  {
   "cell_type": "code",
   "execution_count": 32,
   "metadata": {
    "collapsed": false
   },
   "outputs": [
    {
     "ename": "NameError",
     "evalue": "name 'path' is not defined",
     "output_type": "error",
     "traceback": [
      "\u001b[0;31m---------------------------------------------------------------------------\u001b[0m",
      "\u001b[0;31mNameError\u001b[0m                                 Traceback (most recent call last)",
      "\u001b[0;32m<ipython-input-32-8d5dadefdf26>\u001b[0m in \u001b[0;36m<module>\u001b[0;34m()\u001b[0m\n\u001b[1;32m      1\u001b[0m \u001b[0mstart\u001b[0m \u001b[0;34m=\u001b[0m \u001b[0mtime\u001b[0m\u001b[0;34m(\u001b[0m\u001b[0;34m)\u001b[0m\u001b[0;34m\u001b[0m\u001b[0m\n\u001b[1;32m      2\u001b[0m \u001b[0;34m\u001b[0m\u001b[0m\n\u001b[0;32m----> 3\u001b[0;31m \u001b[0mmodelX\u001b[0m \u001b[0;34m=\u001b[0m \u001b[0mWord2Vec\u001b[0m\u001b[0;34m.\u001b[0m\u001b[0mload\u001b[0m\u001b[0;34m(\u001b[0m\u001b[0mpath\u001b[0m\u001b[0;34m)\u001b[0m\u001b[0;34m\u001b[0m\u001b[0m\n\u001b[0m\u001b[1;32m      4\u001b[0m \u001b[0;32mfrom\u001b[0m \u001b[0mgensim\u001b[0m\u001b[0;34m.\u001b[0m\u001b[0msimilarities\u001b[0m \u001b[0;32mimport\u001b[0m \u001b[0mWmdSimilarity\u001b[0m\u001b[0;34m\u001b[0m\u001b[0m\n\u001b[1;32m      5\u001b[0m \u001b[0mwmd_corpus\u001b[0m \u001b[0;34m=\u001b[0m \u001b[0;34m[\u001b[0m\u001b[0mpreprocess\u001b[0m\u001b[0;34m(\u001b[0m\u001b[0mdoc\u001b[0m\u001b[0;34m)\u001b[0m \u001b[0;32mfor\u001b[0m \u001b[0mdoc\u001b[0m \u001b[0;32min\u001b[0m \u001b[0mdf\u001b[0m\u001b[0;34m.\u001b[0m\u001b[0mtitle\u001b[0m\u001b[0;34m.\u001b[0m\u001b[0mvalues\u001b[0m\u001b[0;34m]\u001b[0m\u001b[0;34m\u001b[0m\u001b[0m\n",
      "\u001b[0;31mNameError\u001b[0m: name 'path' is not defined"
     ]
    }
   ],
   "source": [
    "start = time()\n",
    "\n",
    "modelX = Word2Vec.load(path)\n",
    "from gensim.similarities import WmdSimilarity\n",
    "wmd_corpus = [preprocess(doc) for doc in df.title.values]\n",
    "print(len(wmd_corpus))\n",
    "num_best = 10\n",
    "instanceX = WmdSimilarity(wmd_corpus, modelX, num_best=10)\n",
    "\n",
    "\n",
    "print('Cell took %.2f seconds to run.' % (time() - start))"
   ]
  },
  {
   "cell_type": "code",
   "execution_count": 35,
   "metadata": {
    "collapsed": false
   },
   "outputs": [
    {
     "name": "stdout",
     "output_type": "stream",
     "text": [
      "[(54, 0.43357007474150921), (82, 0.43357007474150921), (5, 0.43197784960781815), (70, 0.43141103399568781), (26, 0.43080101983513447), (77, 0.42987584221802178), (20, 0.42965395615410074), (31, 0.428680079458092), (41, 0.42692412452172734), (2, 0.4268953577652228)]\n",
      "Query:\n",
      "guns\n",
      "\n",
      "sim = 0.4336\n",
      "Safe and Affordable Drugs from Canada Act of 2017\n",
      "['Sen. McCain, John [R-AZ]']\n",
      "\n",
      "sim = 0.4336\n",
      "Safe and Affordable Drugs from Canada Act of 2017\n",
      "['Sen. Grassley, Chuck [R-IA]', 'Sen. Leahy, Patrick J. [D-VT]', 'Sen. King, Angus S., Jr. [I-ME]', 'Sen. Whitehouse, Sheldon [D-RI]', 'Sen. Brown, Sherrod [D-OH]', 'Sen. Baldwin, Tammy [D-WI]', 'Sen. Shaheen, Jeanne [D-NH]', 'Sen. Merkley, Jeff [D-OR]', 'Sen. Hassan, Margaret Wood [D-NH]', None, 'Sen. McCain, John [R-AZ]']\n",
      "\n",
      "sim = 0.4320\n",
      "Iran Ballistic Missile Sanctions Act\n",
      "['Sen. Heller, Dean [R-NV]']\n",
      "\n",
      "sim = 0.4314\n",
      "A bill to protect the right of individuals to bear arms at water resources development projects.\n",
      "['Sen. Boozman, John [R-AR]', None, 'Sen. Crapo, Mike [R-ID]']\n",
      "\n",
      "sim = 0.4308\n",
      "Keep Our Communities Safe Act of 2017\n",
      "['Sen. Inhofe, James M. [R-OK]', 'Sen. Grassley, Chuck [R-IA]', 'Sen. Cruz, Ted [R-TX]', 'Sen. Cotton, Tom [R-AR]', 'Sen. Boozman, John [R-AR]', 'Sen. Perdue, David [R-GA]']\n",
      "\n",
      "sim = 0.4299\n",
      "Stop Dangerous Sanctuary Cities Act\n",
      "['Sen. Cruz, Ted [R-TX]', 'Sen. Inhofe, James M. [R-OK]', 'Sen. Cotton, Tom [R-AR]', 'Sen. Capito, Shelley Moore [R-WV]', 'Sen. Perdue, David [R-GA]', 'Sen. Boozman, John [R-AR]', 'Sen. Johnson, Ron [R-WI]', 'Sen. Wicker, Roger F. [R-MS]', 'Sen. Blunt, Roy [R-MO]', 'Sen. Fischer, Deb [R-NE]', 'Sen. Hoeven, John [R-ND]', 'Sen. Cornyn, John [R-TX]', 'Sen. Roberts, Pat [R-KS]', 'Sen. Daines, Steve [R-MT]', 'Sen. Cassidy, Bill [R-LA]', 'Sen. Paul, Rand [R-KY]', 'Sen. Risch, James E. [R-ID]', 'Sen. Barrasso, John [R-WY]', 'Sen. Crapo, Mike [R-ID]', 'Sen. Rounds, Mike  [R-SD]', 'Sen. Hatch, Orrin G. [R-UT]', 'Sen. Kennedy, John [R-LA]', 'Sen. Isakson, Johnny [R-GA]', 'Sen. Cochran, Thad [R-MS]', None, 'Sen. Toomey, Pat [R-PA]']\n",
      "\n",
      "sim = 0.4297\n",
      "Extending Justice for Sex Crime Victims Act of 2017\n",
      "['Sen. Klobuchar, Amy [D-MN]', 'Sen. Inhofe, James M. [R-OK]', 'Sen. Franken, Al [D-MN]', 'Sen. Tillis, Thom [R-NC]', 'Sen. Gillibrand, Kirsten E. [D-NY]', 'Sen. Markey, Edward J. [D-MA]', 'Sen. Flake, Jeff [R-AZ]', 'Sen. Hatch, Orrin G. [R-UT]', 'Sen. Blumenthal, Richard [D-CT]', 'Sen. Rubio, Marco [R-FL]', 'Sen. Murray, Patty [D-WA]', None, 'Sen. Feinstein, Dianne [D-CA]']\n",
      "\n",
      "sim = 0.4287\n",
      "Medicare Prescription Drug Price Negotiation Act of 2017\n",
      "['Sen. Klobuchar, Amy [D-MN]', 'Sen. Blumenthal, Richard [D-CT]', 'Sen. Shaheen, Jeanne [D-NH]', 'Sen. Baldwin, Tammy [D-WI]', 'Sen. King, Angus S., Jr. [I-ME]', 'Sen. Brown, Sherrod [D-OH]', 'Sen. Leahy, Patrick J. [D-VT]', 'Sen. Franken, Al [D-MN]', 'Sen. Kaine, Tim [D-VA]', 'Sen. Hassan, Margaret Wood [D-NH]', 'Sen. Booker, Cory A. [D-NJ]', 'Sen. Murphy, Christopher [D-CT]', 'Sen. Harris, Kamala D. [D-CA]', 'Sen. Cantwell, Maria [D-WA]']\n",
      "\n",
      "sim = 0.4269\n",
      "Taking Action Against Drunk Drivers Act\n",
      "['Sen. Grassley, Chuck [R-IA]', 'Sen. Ernst, Joni  [R-IA]', 'Sen. McConnell, Mitch [R-KY]', 'Sen. Lee, Mike [R-UT]', 'Sen. Cruz, Ted [R-TX]', 'Sen. Moran, Jerry [R-KS]', 'Sen. Roberts, Pat [R-KS]', 'Sen. Shelby, Richard C. [R-AL]', 'Sen. Inhofe, James M. [R-OK]', 'Sen. Wicker, Roger F. [R-MS]', 'Sen. Hatch, Orrin G. [R-UT]', 'Sen. Cotton, Tom [R-AR]', 'Sen. Perdue, David [R-GA]']\n",
      "\n",
      "sim = 0.4269\n",
      "Increasing the Department of Veterans Affairs Accountability to Veterans Act of 2017\n",
      "['Sen. Moran, Jerry [R-KS]', None, 'Sen. Moran, Jerry [R-KS]', 'Sen. Blumenthal, Richard [D-CT]', 'Sen. Bennet, Michael F. [D-CO]']\n"
     ]
    }
   ],
   "source": [
    "start = time()\n",
    "\n",
    "#model = Word2Vec.load(fname)\n",
    "path = '/Users/whs/Documents/GitHub/gpo-ai.com/models/1.1-whs-Sim_Instance'\n",
    "instanceX = WmdSimilarity.load(path)\n",
    "sent = 'guns'\n",
    "query = preprocess(sent)\n",
    "\n",
    "sims = instanceX[query]  # A query is simply a \"look-up\" in the similarity class.\n",
    "print(sims)\n",
    "#print('Cell took %.2f seconds to run.' % (time() - start))\n",
    "\n",
    "# Print the query and the retrieved documents, together with their similarities.\n",
    "print('Query:')\n",
    "print(sent)\n",
    "for i in range(num_best):\n",
    "    print()\n",
    "    print('sim = %.4f' % sims[i][1])\n",
    "    print(df.title.values[sims[i][0]])\n",
    "    print(df.sponsers.values[sims[i][0]])"
   ]
  },
  {
   "cell_type": "code",
   "execution_count": null,
   "metadata": {
    "collapsed": true
   },
   "outputs": [],
   "source": []
  }
 ],
 "metadata": {
  "kernelspec": {
   "display_name": "Python 3",
   "language": "python",
   "name": "python3"
  },
  "language_info": {
   "codemirror_mode": {
    "name": "ipython",
    "version": 3
   },
   "file_extension": ".py",
   "mimetype": "text/x-python",
   "name": "python",
   "nbconvert_exporter": "python",
   "pygments_lexer": "ipython3",
   "version": "3.6.0"
  },
  "latex_envs": {
   "LaTeX_envs_menu_present": true,
   "autocomplete": true,
   "bibliofile": "biblio.bib",
   "cite_by": "apalike",
   "current_citInitial": 1,
   "eqLabelWithNumbers": true,
   "eqNumInitial": 1,
   "hotkeys": {
    "equation": "Ctrl-E",
    "itemize": "Ctrl-I"
   },
   "labels_anchors": false,
   "latex_user_defs": false,
   "report_style_numbering": false,
   "user_envs_cfg": false
  },
  "toc": {
   "nav_menu": {},
   "number_sections": true,
   "sideBar": true,
   "skip_h1_title": false,
   "toc_cell": false,
   "toc_position": {},
   "toc_section_display": "block",
   "toc_window_display": false
  }
 },
 "nbformat": 4,
 "nbformat_minor": 2
}
