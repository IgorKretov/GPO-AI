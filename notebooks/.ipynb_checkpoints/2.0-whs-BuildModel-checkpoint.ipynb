{
 "cells": [
  {
   "cell_type": "code",
   "execution_count": 4,
   "metadata": {
    "collapsed": true
   },
   "outputs": [],
   "source": [
    "import pandas as pd\n",
    "import time\n",
    "from time import time\n",
    "import os\n",
    "start_nb = time()\n",
    "#https://markroxor.github.io/gensim/static/notebooks/WMD_tutorial.html"
   ]
  },
  {
   "cell_type": "code",
   "execution_count": 2,
   "metadata": {
    "collapsed": false
   },
   "outputs": [
    {
     "name": "stdout",
     "output_type": "stream",
     "text": [
      "[nltk_data] Downloading package punkt to /Users/whs/nltk_data...\n",
      "[nltk_data]   Package punkt is already up-to-date!\n"
     ]
    }
   ],
   "source": [
    "# Pre-processing a document.\n",
    "from nltk.corpus import stopwords\n",
    "from nltk import download\n",
    "stop_words = stopwords.words('english')\n",
    "from nltk import word_tokenize\n",
    "download('punkt')  # Download data for tokenizer.\n",
    "\n",
    "def preprocess(doc):\n",
    "    doc = doc.lower()  # Lower the text.\n",
    "    doc = word_tokenize(doc)  # Split into words.\n",
    "    doc = [w for w in doc if not w in stop_words]  # Remove stopwords.\n",
    "    doc = [w for w in doc if w.isalpha()]  # Remove numbers and punctuation.\n",
    "    return doc"
   ]
  },
  {
   "cell_type": "code",
   "execution_count": 5,
   "metadata": {
    "collapsed": false
   },
   "outputs": [
    {
     "data": {
      "text/plain": [
       "'/Users/whs/Documents/GitHub/loc_challenge/notebooks'"
      ]
     },
     "execution_count": 5,
     "metadata": {},
     "output_type": "execute_result"
    }
   ],
   "source": [
    "os.getcwd()\n",
    "os.path."
   ]
  },
  {
   "cell_type": "code",
   "execution_count": null,
   "metadata": {
    "collapsed": true
   },
   "outputs": [],
   "source": [
    "#data_dir = '/Users/whs/Documents/GitHub/gpo-ai.com/data/processed/1.0-billTitleSponsors.csv'\n",
    "#data_dir = 'C:\\\\Users\\\\wsolomon\\\\Desktop\\\\DataScience\\\\projects\\\\loc_challenge-master\\\\1.0-billTitleSponsors.csv'\n",
    "df = pd.read_csv(data_dir)\n",
    "df.head()"
   ]
  },
  {
   "cell_type": "code",
   "execution_count": 3,
   "metadata": {
    "collapsed": false
   },
   "outputs": [
    {
     "name": "stderr",
     "output_type": "stream",
     "text": [
      "Using TensorFlow backend.\n"
     ]
    },
    {
     "name": "stdout",
     "output_type": "stream",
     "text": [
      "Cell took 226.89 seconds to run.\n"
     ]
    }
   ],
   "source": [
    "start = time()\n",
    "import os\n",
    "import gensim\n",
    "from gensim.models import Word2Vec\n",
    "path = '/Users/whs/Documents/GitHub/gpo-ai.com/data/processed/GoogleNews-vectors-negative300.bin.gz'\n",
    "if not os.path.exists(path):\n",
    "    raise ValueError(\"SKIP: You need to download the google news model\")\n",
    "    \n",
    "model = gensim.models.KeyedVectors.load_word2vec_format(path, binary=True)\n",
    "\n",
    "print('Cell took %.2f seconds to run.' % (time() - start))"
   ]
  },
  {
   "cell_type": "code",
   "execution_count": 5,
   "metadata": {
    "collapsed": false
   },
   "outputs": [
    {
     "name": "stdout",
     "output_type": "stream",
     "text": [
      "distance = 1.7372\n"
     ]
    }
   ],
   "source": [
    "doc1 = df['title'][3]\n",
    "doc2 = df['title'][4]\n",
    "distance = model.wmdistance(doc1,doc2)\n",
    "print('distance = %.4f' % distance)"
   ]
  },
  {
   "cell_type": "code",
   "execution_count": 23,
   "metadata": {
    "collapsed": false
   },
   "outputs": [
    {
     "name": "stdout",
     "output_type": "stream",
     "text": [
      "90\n",
      "Cell took 58.37 seconds to run.\n"
     ]
    }
   ],
   "source": [
    "start = time()\n",
    "from gensim.similarities import WmdSimilarity\n",
    "wmd_corpus = [preprocess(doc) for doc in df.title.values]\n",
    "print(len(wmd_corpus))\n",
    "num_best = 10\n",
    "instance = WmdSimilarity(wmd_corpus, model, num_best=10)\n",
    "\n",
    "print('Cell took %.2f seconds to run.' % (time() - start))"
   ]
  },
  {
   "cell_type": "code",
   "execution_count": 30,
   "metadata": {
    "collapsed": false
   },
   "outputs": [
    {
     "name": "stdout",
     "output_type": "stream",
     "text": [
      "[(54, 0.43357007474150921), (82, 0.43357007474150921), (5, 0.43197784960781815), (70, 0.43141103399568781), (26, 0.43080101983513447), (77, 0.42987584221802178), (20, 0.42965395615410074), (31, 0.428680079458092), (41, 0.42692412452172734), (2, 0.4268953577652228)]\n",
      "Query:\n",
      "guns\n",
      "\n",
      "sim = 0.4336\n",
      "Safe and Affordable Drugs from Canada Act of 2017\n",
      "['Sen. McCain, John [R-AZ]']\n",
      "\n",
      "sim = 0.4336\n",
      "Safe and Affordable Drugs from Canada Act of 2017\n",
      "['Sen. Grassley, Chuck [R-IA]', 'Sen. Leahy, Patrick J. [D-VT]', 'Sen. King, Angus S., Jr. [I-ME]', 'Sen. Whitehouse, Sheldon [D-RI]', 'Sen. Brown, Sherrod [D-OH]', 'Sen. Baldwin, Tammy [D-WI]', 'Sen. Shaheen, Jeanne [D-NH]', 'Sen. Merkley, Jeff [D-OR]', 'Sen. Hassan, Margaret Wood [D-NH]', None, 'Sen. McCain, John [R-AZ]']\n",
      "\n",
      "sim = 0.4320\n",
      "Iran Ballistic Missile Sanctions Act\n",
      "['Sen. Heller, Dean [R-NV]']\n",
      "\n",
      "sim = 0.4314\n",
      "A bill to protect the right of individuals to bear arms at water resources development projects.\n",
      "['Sen. Boozman, John [R-AR]', None, 'Sen. Crapo, Mike [R-ID]']\n",
      "\n",
      "sim = 0.4308\n",
      "Keep Our Communities Safe Act of 2017\n",
      "['Sen. Inhofe, James M. [R-OK]', 'Sen. Grassley, Chuck [R-IA]', 'Sen. Cruz, Ted [R-TX]', 'Sen. Cotton, Tom [R-AR]', 'Sen. Boozman, John [R-AR]', 'Sen. Perdue, David [R-GA]']\n",
      "\n",
      "sim = 0.4299\n",
      "Stop Dangerous Sanctuary Cities Act\n",
      "['Sen. Cruz, Ted [R-TX]', 'Sen. Inhofe, James M. [R-OK]', 'Sen. Cotton, Tom [R-AR]', 'Sen. Capito, Shelley Moore [R-WV]', 'Sen. Perdue, David [R-GA]', 'Sen. Boozman, John [R-AR]', 'Sen. Johnson, Ron [R-WI]', 'Sen. Wicker, Roger F. [R-MS]', 'Sen. Blunt, Roy [R-MO]', 'Sen. Fischer, Deb [R-NE]', 'Sen. Hoeven, John [R-ND]', 'Sen. Cornyn, John [R-TX]', 'Sen. Roberts, Pat [R-KS]', 'Sen. Daines, Steve [R-MT]', 'Sen. Cassidy, Bill [R-LA]', 'Sen. Paul, Rand [R-KY]', 'Sen. Risch, James E. [R-ID]', 'Sen. Barrasso, John [R-WY]', 'Sen. Crapo, Mike [R-ID]', 'Sen. Rounds, Mike  [R-SD]', 'Sen. Hatch, Orrin G. [R-UT]', 'Sen. Kennedy, John [R-LA]', 'Sen. Isakson, Johnny [R-GA]', 'Sen. Cochran, Thad [R-MS]', None, 'Sen. Toomey, Pat [R-PA]']\n",
      "\n",
      "sim = 0.4297\n",
      "Extending Justice for Sex Crime Victims Act of 2017\n",
      "['Sen. Klobuchar, Amy [D-MN]', 'Sen. Inhofe, James M. [R-OK]', 'Sen. Franken, Al [D-MN]', 'Sen. Tillis, Thom [R-NC]', 'Sen. Gillibrand, Kirsten E. [D-NY]', 'Sen. Markey, Edward J. [D-MA]', 'Sen. Flake, Jeff [R-AZ]', 'Sen. Hatch, Orrin G. [R-UT]', 'Sen. Blumenthal, Richard [D-CT]', 'Sen. Rubio, Marco [R-FL]', 'Sen. Murray, Patty [D-WA]', None, 'Sen. Feinstein, Dianne [D-CA]']\n",
      "\n",
      "sim = 0.4287\n",
      "Medicare Prescription Drug Price Negotiation Act of 2017\n",
      "['Sen. Klobuchar, Amy [D-MN]', 'Sen. Blumenthal, Richard [D-CT]', 'Sen. Shaheen, Jeanne [D-NH]', 'Sen. Baldwin, Tammy [D-WI]', 'Sen. King, Angus S., Jr. [I-ME]', 'Sen. Brown, Sherrod [D-OH]', 'Sen. Leahy, Patrick J. [D-VT]', 'Sen. Franken, Al [D-MN]', 'Sen. Kaine, Tim [D-VA]', 'Sen. Hassan, Margaret Wood [D-NH]', 'Sen. Booker, Cory A. [D-NJ]', 'Sen. Murphy, Christopher [D-CT]', 'Sen. Harris, Kamala D. [D-CA]', 'Sen. Cantwell, Maria [D-WA]']\n",
      "\n",
      "sim = 0.4269\n",
      "Taking Action Against Drunk Drivers Act\n",
      "['Sen. Grassley, Chuck [R-IA]', 'Sen. Ernst, Joni  [R-IA]', 'Sen. McConnell, Mitch [R-KY]', 'Sen. Lee, Mike [R-UT]', 'Sen. Cruz, Ted [R-TX]', 'Sen. Moran, Jerry [R-KS]', 'Sen. Roberts, Pat [R-KS]', 'Sen. Shelby, Richard C. [R-AL]', 'Sen. Inhofe, James M. [R-OK]', 'Sen. Wicker, Roger F. [R-MS]', 'Sen. Hatch, Orrin G. [R-UT]', 'Sen. Cotton, Tom [R-AR]', 'Sen. Perdue, David [R-GA]']\n",
      "\n",
      "sim = 0.4269\n",
      "Increasing the Department of Veterans Affairs Accountability to Veterans Act of 2017\n",
      "['Sen. Moran, Jerry [R-KS]', None, 'Sen. Moran, Jerry [R-KS]', 'Sen. Blumenthal, Richard [D-CT]', 'Sen. Bennet, Michael F. [D-CO]']\n"
     ]
    }
   ],
   "source": [
    "start = time()\n",
    "\n",
    "sent = 'guns'\n",
    "query = preprocess(sent)\n",
    "\n",
    "sims = instance[query]  # A query is simply a \"look-up\" in the similarity class.\n",
    "print(sims)\n",
    "#print('Cell took %.2f seconds to run.' % (time() - start))\n",
    "\n",
    "# Print the query and the retrieved documents, together with their similarities.\n",
    "print('Query:')\n",
    "print(sent)\n",
    "for i in range(num_best):\n",
    "    print()\n",
    "    print('sim = %.4f' % sims[i][1])\n",
    "    print(df.title.values[sims[i][0]])\n",
    "    print(df.sponsers.values[sims[i][0]])"
   ]
  },
  {
   "cell_type": "code",
   "execution_count": 33,
   "metadata": {
    "collapsed": true
   },
   "outputs": [],
   "source": [
    "path = '/Users/whs/Documents/GitHub/gpo-ai.com/models/1.0-whs-W2VModel'\n",
    "model.save(path)"
   ]
  },
  {
   "cell_type": "code",
   "execution_count": 34,
   "metadata": {
    "collapsed": true
   },
   "outputs": [],
   "source": [
    "path = '/Users/whs/Documents/GitHub/gpo-ai.com/models/1.1-whs-Sim_Instance'\n",
    "instance.save(path)"
   ]
  },
  {
   "cell_type": "code",
   "execution_count": null,
   "metadata": {
    "collapsed": true
   },
   "outputs": [],
   "source": [
    "start = time()\n",
    "\n",
    "modelX = Word2Vec.load(path)\n",
    "from gensim.similarities import WmdSimilarity\n",
    "wmd_corpus = [preprocess(doc) for doc in df.title.values]\n",
    "print(len(wmd_corpus))\n",
    "num_best = 10\n",
    "instanceX = WmdSimilarity(wmd_corpus, modelX, num_best=10)\n",
    "\n",
    "\n",
    "print('Cell took %.2f seconds to run.' % (time() - start))"
   ]
  },
  {
   "cell_type": "code",
   "execution_count": 35,
   "metadata": {
    "collapsed": false
   },
   "outputs": [
    {
     "name": "stdout",
     "output_type": "stream",
     "text": [
      "[(54, 0.43357007474150921), (82, 0.43357007474150921), (5, 0.43197784960781815), (70, 0.43141103399568781), (26, 0.43080101983513447), (77, 0.42987584221802178), (20, 0.42965395615410074), (31, 0.428680079458092), (41, 0.42692412452172734), (2, 0.4268953577652228)]\n",
      "Query:\n",
      "guns\n",
      "\n",
      "sim = 0.4336\n",
      "Safe and Affordable Drugs from Canada Act of 2017\n",
      "['Sen. McCain, John [R-AZ]']\n",
      "\n",
      "sim = 0.4336\n",
      "Safe and Affordable Drugs from Canada Act of 2017\n",
      "['Sen. Grassley, Chuck [R-IA]', 'Sen. Leahy, Patrick J. [D-VT]', 'Sen. King, Angus S., Jr. [I-ME]', 'Sen. Whitehouse, Sheldon [D-RI]', 'Sen. Brown, Sherrod [D-OH]', 'Sen. Baldwin, Tammy [D-WI]', 'Sen. Shaheen, Jeanne [D-NH]', 'Sen. Merkley, Jeff [D-OR]', 'Sen. Hassan, Margaret Wood [D-NH]', None, 'Sen. McCain, John [R-AZ]']\n",
      "\n",
      "sim = 0.4320\n",
      "Iran Ballistic Missile Sanctions Act\n",
      "['Sen. Heller, Dean [R-NV]']\n",
      "\n",
      "sim = 0.4314\n",
      "A bill to protect the right of individuals to bear arms at water resources development projects.\n",
      "['Sen. Boozman, John [R-AR]', None, 'Sen. Crapo, Mike [R-ID]']\n",
      "\n",
      "sim = 0.4308\n",
      "Keep Our Communities Safe Act of 2017\n",
      "['Sen. Inhofe, James M. [R-OK]', 'Sen. Grassley, Chuck [R-IA]', 'Sen. Cruz, Ted [R-TX]', 'Sen. Cotton, Tom [R-AR]', 'Sen. Boozman, John [R-AR]', 'Sen. Perdue, David [R-GA]']\n",
      "\n",
      "sim = 0.4299\n",
      "Stop Dangerous Sanctuary Cities Act\n",
      "['Sen. Cruz, Ted [R-TX]', 'Sen. Inhofe, James M. [R-OK]', 'Sen. Cotton, Tom [R-AR]', 'Sen. Capito, Shelley Moore [R-WV]', 'Sen. Perdue, David [R-GA]', 'Sen. Boozman, John [R-AR]', 'Sen. Johnson, Ron [R-WI]', 'Sen. Wicker, Roger F. [R-MS]', 'Sen. Blunt, Roy [R-MO]', 'Sen. Fischer, Deb [R-NE]', 'Sen. Hoeven, John [R-ND]', 'Sen. Cornyn, John [R-TX]', 'Sen. Roberts, Pat [R-KS]', 'Sen. Daines, Steve [R-MT]', 'Sen. Cassidy, Bill [R-LA]', 'Sen. Paul, Rand [R-KY]', 'Sen. Risch, James E. [R-ID]', 'Sen. Barrasso, John [R-WY]', 'Sen. Crapo, Mike [R-ID]', 'Sen. Rounds, Mike  [R-SD]', 'Sen. Hatch, Orrin G. [R-UT]', 'Sen. Kennedy, John [R-LA]', 'Sen. Isakson, Johnny [R-GA]', 'Sen. Cochran, Thad [R-MS]', None, 'Sen. Toomey, Pat [R-PA]']\n",
      "\n",
      "sim = 0.4297\n",
      "Extending Justice for Sex Crime Victims Act of 2017\n",
      "['Sen. Klobuchar, Amy [D-MN]', 'Sen. Inhofe, James M. [R-OK]', 'Sen. Franken, Al [D-MN]', 'Sen. Tillis, Thom [R-NC]', 'Sen. Gillibrand, Kirsten E. [D-NY]', 'Sen. Markey, Edward J. [D-MA]', 'Sen. Flake, Jeff [R-AZ]', 'Sen. Hatch, Orrin G. [R-UT]', 'Sen. Blumenthal, Richard [D-CT]', 'Sen. Rubio, Marco [R-FL]', 'Sen. Murray, Patty [D-WA]', None, 'Sen. Feinstein, Dianne [D-CA]']\n",
      "\n",
      "sim = 0.4287\n",
      "Medicare Prescription Drug Price Negotiation Act of 2017\n",
      "['Sen. Klobuchar, Amy [D-MN]', 'Sen. Blumenthal, Richard [D-CT]', 'Sen. Shaheen, Jeanne [D-NH]', 'Sen. Baldwin, Tammy [D-WI]', 'Sen. King, Angus S., Jr. [I-ME]', 'Sen. Brown, Sherrod [D-OH]', 'Sen. Leahy, Patrick J. [D-VT]', 'Sen. Franken, Al [D-MN]', 'Sen. Kaine, Tim [D-VA]', 'Sen. Hassan, Margaret Wood [D-NH]', 'Sen. Booker, Cory A. [D-NJ]', 'Sen. Murphy, Christopher [D-CT]', 'Sen. Harris, Kamala D. [D-CA]', 'Sen. Cantwell, Maria [D-WA]']\n",
      "\n",
      "sim = 0.4269\n",
      "Taking Action Against Drunk Drivers Act\n",
      "['Sen. Grassley, Chuck [R-IA]', 'Sen. Ernst, Joni  [R-IA]', 'Sen. McConnell, Mitch [R-KY]', 'Sen. Lee, Mike [R-UT]', 'Sen. Cruz, Ted [R-TX]', 'Sen. Moran, Jerry [R-KS]', 'Sen. Roberts, Pat [R-KS]', 'Sen. Shelby, Richard C. [R-AL]', 'Sen. Inhofe, James M. [R-OK]', 'Sen. Wicker, Roger F. [R-MS]', 'Sen. Hatch, Orrin G. [R-UT]', 'Sen. Cotton, Tom [R-AR]', 'Sen. Perdue, David [R-GA]']\n",
      "\n",
      "sim = 0.4269\n",
      "Increasing the Department of Veterans Affairs Accountability to Veterans Act of 2017\n",
      "['Sen. Moran, Jerry [R-KS]', None, 'Sen. Moran, Jerry [R-KS]', 'Sen. Blumenthal, Richard [D-CT]', 'Sen. Bennet, Michael F. [D-CO]']\n"
     ]
    }
   ],
   "source": [
    "start = time()\n",
    "\n",
    "#model = Word2Vec.load(fname)\n",
    "path = '/Users/whs/Documents/GitHub/gpo-ai.com/models/1.1-whs-Sim_Instance'\n",
    "instanceX = WmdSimilarity.load(path)\n",
    "sent = 'guns'\n",
    "query = preprocess(sent)\n",
    "\n",
    "sims = instanceX[query]  # A query is simply a \"look-up\" in the similarity class.\n",
    "print(sims)\n",
    "#print('Cell took %.2f seconds to run.' % (time() - start))\n",
    "\n",
    "# Print the query and the retrieved documents, together with their similarities.\n",
    "print('Query:')\n",
    "print(sent)\n",
    "for i in range(num_best):\n",
    "    print()\n",
    "    print('sim = %.4f' % sims[i][1])\n",
    "    print(df.title.values[sims[i][0]])\n",
    "    print(df.sponsers.values[sims[i][0]])"
   ]
  },
  {
   "cell_type": "code",
   "execution_count": null,
   "metadata": {
    "collapsed": true
   },
   "outputs": [],
   "source": []
  }
 ],
 "metadata": {
  "kernelspec": {
   "display_name": "Python 3",
   "language": "python",
   "name": "python3"
  },
  "language_info": {
   "codemirror_mode": {
    "name": "ipython",
    "version": 3
   },
   "file_extension": ".py",
   "mimetype": "text/x-python",
   "name": "python",
   "nbconvert_exporter": "python",
   "pygments_lexer": "ipython3",
   "version": "3.6.0"
  },
  "latex_envs": {
   "LaTeX_envs_menu_present": true,
   "autocomplete": true,
   "bibliofile": "biblio.bib",
   "cite_by": "apalike",
   "current_citInitial": 1,
   "eqLabelWithNumbers": true,
   "eqNumInitial": 1,
   "hotkeys": {
    "equation": "Ctrl-E",
    "itemize": "Ctrl-I"
   },
   "labels_anchors": false,
   "latex_user_defs": false,
   "report_style_numbering": false,
   "user_envs_cfg": false
  },
  "toc": {
   "nav_menu": {},
   "number_sections": true,
   "sideBar": true,
   "skip_h1_title": false,
   "toc_cell": false,
   "toc_position": {},
   "toc_section_display": "block",
   "toc_window_display": false
  }
 },
 "nbformat": 4,
 "nbformat_minor": 2
}
